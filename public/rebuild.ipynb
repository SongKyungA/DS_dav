{
 "cells": [
  {
   "cell_type": "code",
   "execution_count": 8,
   "id": "66a6039e",
   "metadata": {
    "ExecuteTime": {
     "end_time": "2023-11-28T09:15:28.837928Z",
     "start_time": "2023-11-28T09:15:27.951029Z"
    }
   },
   "outputs": [
    {
     "data": {
      "text/plain": [
       "'cleaned_test2.csv'"
      ]
     },
     "execution_count": 8,
     "metadata": {},
     "output_type": "execute_result"
    }
   ],
   "source": [
    "import pandas as pd\n",
    "\n",
    "# Load the CSV file\n",
    "file_path = 'test2_old.csv'\n",
    "data = pd.read_csv(file_path, encoding='UTF-8')\n",
    "\n",
    "# Check for missing values and remove rows with missing values\n",
    "data_cleaned = data.dropna()\n",
    "data_cleaned.head()\n",
    "# Save the cleaned data back to a new CSV file\n",
    "cleaned_file_path = 'cleaned_test2.csv'\n",
    "data_cleaned.to_csv(cleaned_file_path, index=False, encoding='utf-8')\n",
    "cleaned_file_path"
   ]
  },
  {
   "cell_type": "code",
   "execution_count": 7,
   "id": "f05c02e3",
   "metadata": {
    "ExecuteTime": {
     "end_time": "2023-11-28T09:15:26.270810Z",
     "start_time": "2023-11-28T09:15:26.244337Z"
    }
   },
   "outputs": [
    {
     "data": {
      "text/html": [
       "<div>\n",
       "<style scoped>\n",
       "    .dataframe tbody tr th:only-of-type {\n",
       "        vertical-align: middle;\n",
       "    }\n",
       "\n",
       "    .dataframe tbody tr th {\n",
       "        vertical-align: top;\n",
       "    }\n",
       "\n",
       "    .dataframe thead th {\n",
       "        text-align: right;\n",
       "    }\n",
       "</style>\n",
       "<table border=\"1\" class=\"dataframe\">\n",
       "  <thead>\n",
       "    <tr style=\"text-align: right;\">\n",
       "      <th></th>\n",
       "      <th>RCP_SNO</th>\n",
       "      <th>CKG_NM</th>\n",
       "      <th>RGTR_ID</th>\n",
       "      <th>RGTR_NM</th>\n",
       "      <th>INQ_CNT</th>\n",
       "      <th>RCMM_CNT</th>\n",
       "      <th>SRAP_CNT</th>\n",
       "      <th>CKG_MTH_ACTO_NM</th>\n",
       "      <th>CKG_STA_ACTO_NM</th>\n",
       "      <th>CKG_MTRL_ACTO_NM</th>\n",
       "      <th>CKG_KND_ACTO_NM</th>\n",
       "      <th>CKG_INBUN_NM</th>\n",
       "      <th>CKG_DODF_NM</th>\n",
       "      <th>CKG_TIME_NM</th>\n",
       "    </tr>\n",
       "  </thead>\n",
       "  <tbody>\n",
       "    <tr>\n",
       "      <th>0</th>\n",
       "      <td>128671</td>\n",
       "      <td>어묵김말이</td>\n",
       "      <td>skfo0701</td>\n",
       "      <td>꽃날</td>\n",
       "      <td>9592</td>\n",
       "      <td>6</td>\n",
       "      <td>66</td>\n",
       "      <td>튀김</td>\n",
       "      <td>간식</td>\n",
       "      <td>가공식품류</td>\n",
       "      <td>디저트</td>\n",
       "      <td>2인분</td>\n",
       "      <td>초급</td>\n",
       "      <td>60분이내</td>\n",
       "    </tr>\n",
       "    <tr>\n",
       "      <th>3</th>\n",
       "      <td>131871</td>\n",
       "      <td>현미호두죽</td>\n",
       "      <td>cds1117</td>\n",
       "      <td>햇님&amp;별님</td>\n",
       "      <td>2912</td>\n",
       "      <td>0</td>\n",
       "      <td>9</td>\n",
       "      <td>끓이기</td>\n",
       "      <td>일상</td>\n",
       "      <td>쌀</td>\n",
       "      <td>밥/죽/떡</td>\n",
       "      <td>2인분</td>\n",
       "      <td>초급</td>\n",
       "      <td>30분이내</td>\n",
       "    </tr>\n",
       "    <tr>\n",
       "      <th>4</th>\n",
       "      <td>139247</td>\n",
       "      <td>북어갈비</td>\n",
       "      <td>skfo0701</td>\n",
       "      <td>꽃날</td>\n",
       "      <td>6865</td>\n",
       "      <td>3</td>\n",
       "      <td>97</td>\n",
       "      <td>굽기</td>\n",
       "      <td>술안주</td>\n",
       "      <td>건어물류</td>\n",
       "      <td>메인반찬</td>\n",
       "      <td>2인분</td>\n",
       "      <td>초급</td>\n",
       "      <td>60분이내</td>\n",
       "    </tr>\n",
       "    <tr>\n",
       "      <th>5</th>\n",
       "      <td>149207</td>\n",
       "      <td>토마토스파게티</td>\n",
       "      <td>skfo0701</td>\n",
       "      <td>꽃날</td>\n",
       "      <td>12754</td>\n",
       "      <td>2</td>\n",
       "      <td>36</td>\n",
       "      <td>볶음</td>\n",
       "      <td>일상</td>\n",
       "      <td>가공식품류</td>\n",
       "      <td>면/만두</td>\n",
       "      <td>1인분</td>\n",
       "      <td>초급</td>\n",
       "      <td>30분이내</td>\n",
       "    </tr>\n",
       "    <tr>\n",
       "      <th>6</th>\n",
       "      <td>151148</td>\n",
       "      <td>표고버섯탕수</td>\n",
       "      <td>skfo0701</td>\n",
       "      <td>꽃날</td>\n",
       "      <td>16053</td>\n",
       "      <td>2</td>\n",
       "      <td>194</td>\n",
       "      <td>튀김</td>\n",
       "      <td>손님접대</td>\n",
       "      <td>버섯류</td>\n",
       "      <td>메인반찬</td>\n",
       "      <td>2인분</td>\n",
       "      <td>초급</td>\n",
       "      <td>30분이내</td>\n",
       "    </tr>\n",
       "  </tbody>\n",
       "</table>\n",
       "</div>"
      ],
      "text/plain": [
       "   RCP_SNO   CKG_NM   RGTR_ID RGTR_NM  INQ_CNT  RCMM_CNT  SRAP_CNT  \\\n",
       "0   128671    어묵김말이  skfo0701      꽃날     9592         6        66   \n",
       "3   131871    현미호두죽   cds1117   햇님&별님     2912         0         9   \n",
       "4   139247     북어갈비  skfo0701      꽃날     6865         3        97   \n",
       "5   149207  토마토스파게티  skfo0701      꽃날    12754         2        36   \n",
       "6   151148   표고버섯탕수  skfo0701      꽃날    16053         2       194   \n",
       "\n",
       "  CKG_MTH_ACTO_NM CKG_STA_ACTO_NM CKG_MTRL_ACTO_NM CKG_KND_ACTO_NM  \\\n",
       "0              튀김              간식            가공식품류             디저트   \n",
       "3             끓이기              일상                쌀           밥/죽/떡   \n",
       "4              굽기             술안주             건어물류            메인반찬   \n",
       "5              볶음              일상            가공식품류            면/만두   \n",
       "6              튀김            손님접대              버섯류            메인반찬   \n",
       "\n",
       "  CKG_INBUN_NM CKG_DODF_NM CKG_TIME_NM  \n",
       "0          2인분          초급       60분이내  \n",
       "3          2인분          초급       30분이내  \n",
       "4          2인분          초급       60분이내  \n",
       "5          1인분          초급       30분이내  \n",
       "6          2인분          초급       30분이내  "
      ]
     },
     "execution_count": 7,
     "metadata": {},
     "output_type": "execute_result"
    }
   ],
   "source": [
    "data_cleaned.head()"
   ]
  },
  {
   "cell_type": "code",
   "execution_count": null,
   "id": "ec5bf3be",
   "metadata": {},
   "outputs": [],
   "source": []
  }
 ],
 "metadata": {
  "kernelspec": {
   "display_name": "Python 3 (ipykernel)",
   "language": "python",
   "name": "python3"
  },
  "language_info": {
   "codemirror_mode": {
    "name": "ipython",
    "version": 3
   },
   "file_extension": ".py",
   "mimetype": "text/x-python",
   "name": "python",
   "nbconvert_exporter": "python",
   "pygments_lexer": "ipython3",
   "version": "3.9.12"
  },
  "toc": {
   "base_numbering": 1,
   "nav_menu": {},
   "number_sections": true,
   "sideBar": true,
   "skip_h1_title": false,
   "title_cell": "Table of Contents",
   "title_sidebar": "Contents",
   "toc_cell": false,
   "toc_position": {},
   "toc_section_display": true,
   "toc_window_display": false
  }
 },
 "nbformat": 4,
 "nbformat_minor": 5
}
